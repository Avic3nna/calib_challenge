{
 "cells": [
  {
   "cell_type": "markdown",
   "metadata": {},
   "source": [
    "# Loading raw video"
   ]
  },
  {
   "cell_type": "code",
   "execution_count": 2,
   "metadata": {},
   "outputs": [],
   "source": [
    "import numpy as np\n",
    "import cv2\n",
    "import os\n",
    "import glob\n",
    "import math"
   ]
  },
  {
   "cell_type": "code",
   "execution_count": 20,
   "metadata": {},
   "outputs": [
    {
     "name": "stdout",
     "output_type": "stream",
     "text": [
      "1196\n"
     ]
    }
   ],
   "source": [
    "labeled_videos = glob.glob('./labeled/*.hevc')\n",
    "video_index = 4\n",
    "\n",
    "cap = cv2.VideoCapture(labeled_videos[video_index])\n",
    "\n",
    "frame_count = 0\n",
    "\n",
    "while(cap.isOpened()):\n",
    "    ret, frame = cap.read()\n",
    "    \n",
    "    if(ret == False):\n",
    "        break\n",
    "    else:\n",
    "        cv2.imshow('frame',frame)\n",
    "\n",
    "    if cv2.waitKey(1) & 0xFF == ord('q'):\n",
    "        break\n",
    "    \n",
    "    frame_count += 1\n",
    "    \n",
    "cap.release()\n",
    "cv2.destroyAllWindows()\n",
    "\n",
    "print(frame_count)"
   ]
  },
  {
   "cell_type": "markdown",
   "metadata": {},
   "source": [
    " # Visualising GT pitch and yaw (respectively in 2D array)"
   ]
  },
  {
   "cell_type": "code",
   "execution_count": 19,
   "metadata": {},
   "outputs": [],
   "source": [
    "def draw_gaze(image_in, cam_pos, pitchyaw, length=40.0, thickness=2, color=(255, 0, 0)):\n",
    "    \"\"\"Draw gaze angle on given image with a given cam positions.\"\"\"\n",
    "    image_out = image_in\n",
    "    if len(image_out.shape) == 2 or image_out.shape[2] == 1:\n",
    "        image_out = cv2.cvtColor(image_out, cv2.COLOR_GRAY2BGR)\n",
    "    dx = -length * np.sin(pitchyaw[1])\n",
    "    dy = -length * np.sin(pitchyaw[0])\n",
    "    cv2.arrowedLine(image_out, tuple(np.round(cam_pos).astype(np.int32)),\n",
    "                   tuple(np.round([cam_pos[0] + dx, cam_pos[1] + dy]).astype(int)), color,\n",
    "                   thickness, cv2.LINE_AA, tipLength=0.3)\n",
    "    return image_out"
   ]
  },
  {
   "cell_type": "code",
   "execution_count": 31,
   "metadata": {},
   "outputs": [
    {
     "name": "stdout",
     "output_type": "stream",
     "text": [
      "1200\n"
     ]
    }
   ],
   "source": [
    "labeled_videos = glob.glob('./labeled/*.hevc')\n",
    "gt_pitch_yaw = glob.glob('./labeled/*.txt')\n",
    "video_index = 1\n",
    "\n",
    "\n",
    "pitch_yaw = []\n",
    "\n",
    "\n",
    "with open(gt_pitch_yaw[video_index], 'r') as f:\n",
    "    for line in f.readlines():\n",
    "        pitch_yaw.append(float(x) for x in line.split(' '))\n",
    "\n",
    "#frame size (874, 1164, 3)\n",
    "cap = cv2.VideoCapture(labeled_videos[video_index])\n",
    "frame_count = 0\n",
    "\n",
    "\n",
    "while(cap.isOpened()):\n",
    "    ret, frame = cap.read()\n",
    "    try:\n",
    "        current_p_y = list(pitch_yaw[frame_count])\n",
    "    except:\n",
    "        next\n",
    "    \n",
    "    if(ret == False):\n",
    "        break\n",
    "    else:\n",
    "        pitch = 'Pitch: ' + str(current_p_y[0])\n",
    "        yaw = 'Yaw:  ' + str(current_p_y[1])\n",
    "        cv2.putText(frame, pitch, (20,40), cv2.FONT_HERSHEY_SIMPLEX, 1, (0,255,0), 1, 2)\n",
    "        cv2.putText(frame, yaw, (20,80), cv2.FONT_HERSHEY_SIMPLEX, 1, (0,0,255), 1, 2)\n",
    "        \n",
    "        if(not math.isnan(current_p_y[0])):\n",
    "            draw_gaze(frame, (582, 850), current_p_y, length=3000, thickness = 15)\n",
    "            draw_gaze(frame, (582, 850), (0,0), length=3000, thickness = 15, color = (255,255,255)) #reference, perfect calib\n",
    "        cv2.imshow('frame',frame)\n",
    "\n",
    "    if cv2.waitKey(1) & 0xFF == ord('q'):\n",
    "        break\n",
    "    \n",
    "    frame_count += 1\n",
    "    \n",
    "cap.release()\n",
    "cv2.destroyAllWindows()\n",
    "\n",
    "print(frame_count)"
   ]
  }
 ],
 "metadata": {
  "interpreter": {
   "hash": "d2f780d3fa0f233da220727534c26375caac5692cb408a3c2164f85e81e52cd5"
  },
  "kernelspec": {
   "display_name": "Python 3.9.7 64-bit",
   "language": "python",
   "name": "python3"
  },
  "language_info": {
   "codemirror_mode": {
    "name": "ipython",
    "version": 3
   },
   "file_extension": ".py",
   "mimetype": "text/x-python",
   "name": "python",
   "nbconvert_exporter": "python",
   "pygments_lexer": "ipython3",
   "version": "3.9.7"
  },
  "orig_nbformat": 4
 },
 "nbformat": 4,
 "nbformat_minor": 2
}
